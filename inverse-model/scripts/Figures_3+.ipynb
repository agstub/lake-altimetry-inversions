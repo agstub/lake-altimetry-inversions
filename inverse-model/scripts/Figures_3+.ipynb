{
 "cells": [
  {
   "cell_type": "code",
   "execution_count": 1,
   "metadata": {},
   "outputs": [],
   "source": [
    "%load_ext autoreload\n",
    "%autoreload 2"
   ]
  },
  {
   "attachments": {},
   "cell_type": "markdown",
   "metadata": {},
   "source": [
    "Choose a lake name from the Siegfried & Fricker (2018) inventory "
   ]
  },
  {
   "cell_type": "code",
   "execution_count": 2,
   "metadata": {},
   "outputs": [
    {
     "name": "stdout",
     "output_type": "stream",
     "text": [
      "['Bindschadler_1', 'Bindschadler_2', 'Bindschadler_3', 'Bindschadler_4', 'Bindschadler_5', 'Bindschadler_6', 'Byrd_1', 'Byrd_2', 'Byrd_s1', 'Byrd_s10', 'Byrd_s11', 'Byrd_s12', 'Byrd_s13', 'Byrd_s14', 'Byrd_s15', 'Byrd_s2', 'Byrd_s3', 'Byrd_s4', 'Byrd_s5', 'Byrd_s6', 'Byrd_s7', 'Byrd_s8', 'Byrd_s9', 'ConwaySubglacialLake', 'Cook_E1', 'Cook_E2', 'David_1', 'David_s1', 'David_s2', 'David_s3', 'David_s4', 'David_s5', 'EAP_1', 'EAP_2', 'EAP_3', 'EAP_4', 'EAP_5', 'EAP_6', 'EAP_7', 'EAP_8', 'EAP_9', 'EngelhardtSubglacialLake', 'Foundation_1', 'Foundation_10', 'Foundation_11', 'Foundation_12', 'Foundation_13', 'Foundation_14', 'Foundation_15', 'Foundation_16', 'Foundation_2', 'Foundation_3', 'Foundation_4', 'Foundation_5', 'Foundation_6', 'Foundation_7', 'Foundation_8', 'Foundation_9', 'Foundation_N1', 'Foundation_N2', 'Foundation_N3', 'Institute_E1', 'Institute_E2', 'Institute_W1', 'Institute_W2', 'KT1', 'KT2', 'KT3', 'Kamb_1', 'Kamb_10', 'Kamb_11', 'Kamb_12', 'Kamb_2', 'Kamb_3', 'Kamb_4', 'Kamb_5', 'Kamb_6', 'Kamb_7', 'Kamb_8', 'Kamb_9', 'Lake10', 'Lake12', 'Lake78', 'Lambert_1', 'LennoxKing_1', 'Mac1', 'Mac2', 'Mac3', 'Mac4', 'Mac5', 'Mac6', 'Mac7', 'Mac8', 'MercerSubglacialLake', 'Mertz_1', 'Mulock_1', 'Nimrod_1', 'Nimrod_2', 'Ninnis_1', 'Ninnis_2', 'Raymond_1', 'Rec1', 'Rec10', 'Rec2', 'Rec3', 'Rec4', 'Rec5', 'Rec6', 'Rec8', 'Rec9', 'Rutford_1', 'Slessor_1', 'Slessor_23', 'Slessor_4', 'Slessor_5', 'Slessor_6', 'Slessor_7', 'Thw_124', 'Thw_142', 'Thw_170', 'Thw_70', 'Totten_1', 'Totten_2', 'UpperSubglacialLakeConway', 'Vostok_1', 'WhillansSubglacialLake', 'Whillans_6', 'Whillans_7', 'Whillans_8', 'Wilkes_1', 'Wilkes_2']\n"
     ]
    }
   ],
   "source": [
    "from load_lakes import gdf\n",
    "print(gdf['name'].to_list())"
   ]
  },
  {
   "cell_type": "code",
   "execution_count": 3,
   "metadata": {},
   "outputs": [],
   "source": [
    "lake_name = 'Byrd_s10'"
   ]
  },
  {
   "attachments": {},
   "cell_type": "markdown",
   "metadata": {},
   "source": [
    "You can also set lake_name = 'synth' for the synthetic example"
   ]
  },
  {
   "attachments": {},
   "cell_type": "markdown",
   "metadata": {},
   "source": [
    "Set paths to data directories (modify as necessary)\n",
    "See README for links to download the data"
   ]
  },
  {
   "cell_type": "code",
   "execution_count": 4,
   "metadata": {},
   "outputs": [],
   "source": [
    "paths = {}\n",
    "paths['icesat'] = '../../../ICESat-2/ATL15/ATL15_AA_0314_01km_002_02.nc'\n",
    "paths['wavi'] = '../../../WAVI/WAVI_5km_Initial.nc'\n",
    "paths['measures'] = '../../../measures/antarctic_ice_vel_phase_map_v01.nc'\n",
    "paths['bedmachine'] = '../../../bedmachine/BedMachineAntarctica-v3.nc'"
   ]
  },
  {
   "attachments": {},
   "cell_type": "markdown",
   "metadata": {},
   "source": [
    "Next we pre-process the ICESat-2 data for use in the inversion... this can take several (15+) minutes!\n",
    "This step is skipped if the data already exists.\n",
    "You can edit certain aspects of the pre-processing, like the size of the bounding box around the lake, by modifying proc_icesat_data.py"
   ]
  },
  {
   "cell_type": "code",
   "execution_count": 5,
   "metadata": {},
   "outputs": [
    {
     "name": "stdout",
     "output_type": "stream",
     "text": [
      "saved some images of elevation change maps in the data directory!\n",
      "H WAVI = 2454.4743211534287\n",
      "H BedMachine = 2676.4402\n"
     ]
    }
   ],
   "source": [
    "from proc_icesat_data import proc_data\n",
    "import os \n",
    "if os.path.isfile('../data_'+lake_name+'/h_obs.npy')==False: \n",
    "    proc_data(lake_name,paths)"
   ]
  },
  {
   "attachments": {},
   "cell_type": "markdown",
   "metadata": {},
   "source": [
    "Next we will run the inversion.\n",
    "We will be prompted to enter the lake_name "
   ]
  },
  {
   "cell_type": "code",
   "execution_count": 8,
   "metadata": {},
   "outputs": [],
   "source": [
    "# example script that runs the inversion\n",
    "\n",
    "import sys\n",
    "sys.path.insert(0, '../source')\n",
    "\n",
    "from inversion import invert\n",
    "import numpy as np\n",
    "import os\n",
    "from params import data_dir\n",
    "from plot_results import plot_movie, plot_snap\n",
    "from print_params import print_params"
   ]
  },
  {
   "cell_type": "code",
   "execution_count": 12,
   "metadata": {},
   "outputs": [
    {
     "name": "stdout",
     "output_type": "stream",
     "text": [
      "auxiliary model parameters:\n",
      "H = 2.676440185546875 km\n",
      "beta = 1.40e+11 Pa s m^-1\n",
      "eta = 4.97e+15 Pa s\n",
      "u = -9.40271065957805 m yr^-1\n",
      "v = -9.795797504488833 m yr^-1\n"
     ]
    }
   ],
   "source": [
    "# print the auxiliary model parameters\n",
    "print_params()"
   ]
  },
  {
   "cell_type": "code",
   "execution_count": 13,
   "metadata": {},
   "outputs": [],
   "source": [
    "# load elevation data (h_obs)\n",
    "h_obs = np.load(data_dir+'/h_obs.npy')\n",
    "\n",
    "# set regularization parameter\n",
    "eps = 1e0\n",
    "\n",
    "# set reference time to define elevation anomaly\n",
    "t_ref = 0*1.25 # probably should set t_ref = 1.25 for SLM"
   ]
  }
 ],
 "metadata": {
  "kernelspec": {
   "display_name": "base",
   "language": "python",
   "name": "python3"
  },
  "language_info": {
   "codemirror_mode": {
    "name": "ipython",
    "version": 3
   },
   "file_extension": ".py",
   "mimetype": "text/x-python",
   "name": "python",
   "nbconvert_exporter": "python",
   "pygments_lexer": "ipython3",
   "version": "3.9.13"
  },
  "orig_nbformat": 4,
  "vscode": {
   "interpreter": {
    "hash": "e494a048d6a11ee2cfda9b00b745ac297894291ffaf6f5945820a9ffec15e17a"
   }
  }
 },
 "nbformat": 4,
 "nbformat_minor": 2
}
