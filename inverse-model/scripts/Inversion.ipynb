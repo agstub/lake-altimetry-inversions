{
 "cells": [
  {
   "cell_type": "code",
   "execution_count": null,
   "metadata": {},
   "outputs": [],
   "source": [
    "%load_ext autoreload\n",
    "%autoreload 2"
   ]
  },
  {
   "attachments": {},
   "cell_type": "markdown",
   "metadata": {},
   "source": [
    "Choose a lake name from the Siegfried & Fricker (2018) inventory "
   ]
  },
  {
   "cell_type": "code",
   "execution_count": null,
   "metadata": {},
   "outputs": [],
   "source": [
    "from load_lakes import gdf\n",
    "print(gdf['name'].to_list())"
   ]
  },
  {
   "cell_type": "code",
   "execution_count": null,
   "metadata": {},
   "outputs": [],
   "source": [
    "lake_name = 'Byrd_s10'"
   ]
  },
  {
   "attachments": {},
   "cell_type": "markdown",
   "metadata": {},
   "source": [
    "You can also set lake_name = 'synth' for the synthetic example"
   ]
  },
  {
   "attachments": {},
   "cell_type": "markdown",
   "metadata": {},
   "source": [
    "Set paths to data directories (modify as necessary)\n",
    "See README for links to download the data"
   ]
  },
  {
   "cell_type": "code",
   "execution_count": null,
   "metadata": {},
   "outputs": [],
   "source": [
    "paths = {}\n",
    "paths['icesat'] = '../../../ICESat-2/ATL15/ATL15_AA_0314_01km_002_02.nc'\n",
    "paths['wavi'] = '../../../WAVI/WAVI_5km_Initial.nc'\n",
    "paths['measures'] = '../../../measures/antarctic_ice_vel_phase_map_v01.nc'\n",
    "paths['bedmachine'] = '../../../bedmachine/BedMachineAntarctica-v3.nc'"
   ]
  },
  {
   "attachments": {},
   "cell_type": "markdown",
   "metadata": {},
   "source": [
    "Next we pre-process the ICESat-2 data for use in the inversion... this can take several (15+) minutes!\n",
    "This step is skipped if the data already exists.\n",
    "You can edit certain aspects of the pre-processing, like the size of the bounding box around the lake, by modifying proc_icesat_data.py"
   ]
  },
  {
   "cell_type": "code",
   "execution_count": null,
   "metadata": {},
   "outputs": [],
   "source": [
    "from proc_icesat_data import proc_data\n",
    "import os \n",
    "if os.path.isfile('../data_'+lake_name+'/h_obs.npy')==False: \n",
    "    proc_data(lake_name,paths)"
   ]
  },
  {
   "attachments": {},
   "cell_type": "markdown",
   "metadata": {},
   "source": [
    "Next we will run the inversion.\n",
    "We will be prompted to enter the lake_name "
   ]
  },
  {
   "cell_type": "code",
   "execution_count": null,
   "metadata": {},
   "outputs": [],
   "source": [
    "# example script that runs the inversion\n",
    "\n",
    "import sys\n",
    "sys.path.insert(0, '../source')\n",
    "\n",
    "from inversion import invert\n",
    "import numpy as np\n",
    "import os\n",
    "from params import data_dir\n",
    "from plot_results import plot_movie, plot_snap\n",
    "from print_params import print_params"
   ]
  },
  {
   "cell_type": "code",
   "execution_count": null,
   "metadata": {},
   "outputs": [],
   "source": [
    "# print the auxiliary model parameters\n",
    "print_params()"
   ]
  },
  {
   "cell_type": "code",
   "execution_count": null,
   "metadata": {},
   "outputs": [],
   "source": [
    "# load elevation data (h_obs)\n",
    "h_obs = np.load(data_dir+'/h_obs.npy')\n",
    "\n",
    "# set regularization parameter\n",
    "eps = 1e0\n",
    "\n",
    "# set reference time to define elevation anomaly\n",
    "t_ref = 0*1.25 # probably should set t_ref = 1.25 for SLM"
   ]
  },
  {
   "cell_type": "code",
   "execution_count": null,
   "metadata": {},
   "outputs": [],
   "source": [
    "# solve for the basal vertical velocity inversion\n",
    "w_map,h_fwd,mis = invert(h_obs,eps=eps,t_ref=t_ref)"
   ]
  },
  {
   "cell_type": "code",
   "execution_count": null,
   "metadata": {},
   "outputs": [],
   "source": [
    "# plot the results\n",
    "plot_movie(t_ref)    # plot a movie\n",
    "\n",
    "plot_snap(t_ref,74)   # plot snapshot at specified timestep"
   ]
  }
 ],
 "metadata": {
  "kernelspec": {
   "display_name": "base",
   "language": "python",
   "name": "python3"
  },
  "language_info": {
   "codemirror_mode": {
    "name": "ipython",
    "version": 3
   },
   "file_extension": ".py",
   "mimetype": "text/x-python",
   "name": "python",
   "nbconvert_exporter": "python",
   "pygments_lexer": "ipython3",
   "version": "3.9.13"
  },
  "orig_nbformat": 4,
  "vscode": {
   "interpreter": {
    "hash": "e494a048d6a11ee2cfda9b00b745ac297894291ffaf6f5945820a9ffec15e17a"
   }
  }
 },
 "nbformat": 4,
 "nbformat_minor": 2
}
