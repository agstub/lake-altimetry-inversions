{
 "cells": [
  {
   "cell_type": "code",
   "execution_count": null,
   "id": "earned-casting",
   "metadata": {},
   "outputs": [],
   "source": [
    "import sys\n",
    "sys.path.insert(0, '../code')\n",
    "import numpy as np\n",
    "import os \n",
    "import matplotlib.pyplot as plt\n",
    "from inversion import invert\n",
    "from conj_grad import norm\n",
    "from params import t_d,x_d,y_d,t0,x0,y0,Nt"
   ]
  },
  {
   "cell_type": "code",
   "execution_count": null,
   "id": "mathematical-criterion",
   "metadata": {},
   "outputs": [],
   "source": [
    "data = np.load('../data/h_obs.npy')\n",
    "\n",
    "eps_w = 1e-3      # regularization parameter"
   ]
  },
  {
   "cell_type": "code",
   "execution_count": null,
   "id": "diagnostic-republican",
   "metadata": {
    "scrolled": true
   },
   "outputs": [],
   "source": [
    "sol,fwd,mis = invert(data,eps_w)"
   ]
  },
  {
   "cell_type": "code",
   "execution_count": null,
   "id": "southeast-confusion",
   "metadata": {},
   "outputs": [],
   "source": [
    "# import cycler\n",
    "# from matplotlib.colors import rgb2hex\n",
    "# color = plt.cm.Accent(np.linspace(0, 1,Nt))"
   ]
  },
  {
   "cell_type": "code",
   "execution_count": null,
   "id": "instructional-ecuador",
   "metadata": {
    "scrolled": true
   },
   "outputs": [],
   "source": [
    "if os.path.isdir('inv_pngs')==False:\n",
    "    os.mkdir('inv_pngs')\n",
    "\n",
    "levels_data = np.arange(-5,6,1)\n",
    "levels_inv = np.arange(0,26,2.)\n",
    "\n",
    "# basal vertical velocity threshold for estimating lake boundary \n",
    "Q = np.abs(sol)\n",
    "Q_max = np.max(Q)\n",
    "\n",
    "Q_mean = np.mean(Q,axis=(1,2))\n",
    "Q_std = np.std(Q,axis=(1,2))\n",
    "\n",
    "thresh = 2\n",
    "\n",
    "i0 = 0    \n",
    "for i in range(Nt): \n",
    "    plt.close()\n",
    "    fig = plt.figure(figsize=(16,14))\n",
    "    plt.suptitle(r'$t=$ '+'{:.2f}'.format(t_d[i])+' d',fontsize=30)\n",
    "    plt.subplot(221)\n",
    "    plt.title(\"ICESat-2 data (ATL15)\",fontsize=24)\n",
    "    plt.contourf(x_d/1e3,y_d/1e3,data[i,:,:],levels=levels_data,cmap='coolwarm',extend='both')\n",
    "    plt.ylabel(r'$y$ (km)',fontsize=20)\n",
    "    plt.gca().xaxis.set_ticklabels([])\n",
    "    plt.yticks(fontsize=16)\n",
    "   \n",
    "    plt.subplot(222)\n",
    "    plt.title(\"Modelled data\",fontsize=24)\n",
    "    p = plt.contourf(x_d/1e3,y_d/1e3,fwd[i,:,:],levels=levels_data,cmap='coolwarm',extend='both')\n",
    "    plt.gca().xaxis.set_ticklabels([])\n",
    "    plt.gca().yaxis.set_ticklabels([])\n",
    " \n",
    "    \n",
    "    fig.subplots_adjust(right=0.85)\n",
    "    cbar_ax = fig.add_axes([0.875, 0.53, 0.02, 0.35])\n",
    "    cbar = fig.colorbar(p,cax=cbar_ax,orientation='vertical',ticks=levels_data)\n",
    "    cbar.ax.get_yaxis().labelpad = 10\n",
    "    cbar.ax.tick_params(labelsize=18)  \n",
    "    cbar.set_label(r'$\\Delta h$ (m)',fontsize=24)\n",
    "    cbar.ax.tick_params(labelsize=16)\n",
    "    \n",
    "    plt.subplot(223)\n",
    "    plt.title(\"Lake activity \\\"imprint\\\" \",fontsize=24)\n",
    "\n",
    "    ind = np.arange(i0,i,1)\n",
    "    for j in ind:\n",
    "        alpha_j = 0.01 + 0.99*(float(j-i0+1)/float(i-i0+1))\n",
    "        color_j = 'k'#rgb2hex(color[j])\n",
    "        if np.max(Q[j,:,:])>thresh:\n",
    "            plt.contour(x_d/1e3,y_d/1e3,Q[j,:,:],levels=[thresh],linewidths=1,linestyles=['-'],colors=color_j,alpha=alpha_j)\n",
    "    if np.max(Q[i,:,:])>thresh:   \n",
    "        plt.contour(x_d/1e3,y_d/1e3,Q[i,:,:],levels=[thresh],linewidths=3,linestyles=['-'],colors='k')\n",
    "    else:\n",
    "        i0 = i\n",
    "        plt.contour(x_d/1e3,y_d/1e3,Q[0,:,:],levels=[thresh],linewidths=3,linestyles=['-'],colors='w')\n",
    "        \n",
    "    \n",
    "    plt.xlabel(r'$x$ (km)',fontsize=20)\n",
    "    plt.ylabel(r'$y$ (km)',fontsize=20)\n",
    "    plt.xticks(fontsize=16)\n",
    "    plt.yticks(fontsize=16)\n",
    "    \n",
    "    plt.subplot(224)\n",
    "    plt.title(\"Inversion\",fontsize=24)\n",
    "    p = plt.contourf(x_d/1e3,y_d/1e3,Q[i,:,:],levels=levels_inv,cmap='Blues',extend='both')\n",
    "    \n",
    "    if np.max(Q[i,:,:])>thresh:\n",
    "        c = plt.contour(x_d/1e3,y_d/1e3,Q[i,:,:],levels=[thresh],linewidths=3,linestyles=['-'],colors='k')\n",
    "  \n",
    "    \n",
    "    plt.xlabel(r'$x$ (km)',fontsize=20)\n",
    "  \n",
    "    plt.xticks(fontsize=16)\n",
    "    plt.gca().yaxis.set_ticklabels([])\n",
    "\n",
    "    \n",
    "    fig.subplots_adjust(right=0.85)\n",
    "    cbar_ax = fig.add_axes([0.875, 0.11, 0.02, 0.35])\n",
    "    cbar = fig.colorbar(p,cax=cbar_ax,orientation='vertical',ticks=levels_inv)\n",
    "    cbar.ax.get_yaxis().labelpad = 10\n",
    "    cbar.ax.tick_params(labelsize=18)  \n",
    "    cbar.set_label(r'$|w_b|$ (m/yr)',fontsize=24)\n",
    "    cbar.ax.tick_params(labelsize=16) \n",
    "    if np.max(Q[i,:,:])>thresh:\n",
    "        cbar.add_lines(c)\n",
    "        cbar.lines[0].set_linestyles(c.linestyles)\n",
    "    \n",
    "   # plt.tight_layout()\n",
    "    plt.savefig('inv_pngs/inv_'+str(i),bbox_inches='tight')\n",
    "    plt.close()"
   ]
  },
  {
   "cell_type": "markdown",
   "id": "perceived-collection",
   "metadata": {},
   "source": [
    "to make a movie: open terminal, cd to inv_pngs, and use the ffmpeg command\n",
    "\n",
    "`ffmpeg -r 5 -f image2 -s 1920x1080 -i inv_%01d.png -vcodec libx264 -pix_fmt yuv420p -vf scale=1280:-2 movie.mp4`"
   ]
  }
 ],
 "metadata": {
  "kernelspec": {
   "display_name": "Python 3",
   "language": "python",
   "name": "python3"
  },
  "language_info": {
   "codemirror_mode": {
    "name": "ipython",
    "version": 3
   },
   "file_extension": ".py",
   "mimetype": "text/x-python",
   "name": "python",
   "nbconvert_exporter": "python",
   "pygments_lexer": "ipython3",
   "version": "3.8.10"
  }
 },
 "nbformat": 4,
 "nbformat_minor": 5
}
