{
 "cells": [
  {
   "cell_type": "code",
   "execution_count": 1,
   "id": "ethical-mailman",
   "metadata": {},
   "outputs": [],
   "source": [
    "from scipy.interpolate import griddata\n",
    "import netCDF4 as nc\n",
    "import numpy as np\n",
    "import matplotlib.pyplot as plt\n",
    "import os\n",
    "import xarray as xr"
   ]
  },
  {
   "cell_type": "code",
   "execution_count": 2,
   "id": "moving-antigua",
   "metadata": {},
   "outputs": [],
   "source": [
    "if os.path.isdir('../data')==False:\n",
    "    os.mkdir('../data')"
   ]
  },
  {
   "cell_type": "markdown",
   "id": "blessed-fourth",
   "metadata": {},
   "source": [
    "Choose a bounding box to extract the data (in polar stereographic coordinates)"
   ]
  },
  {
   "cell_type": "code",
   "execution_count": 3,
   "id": "passive-decrease",
   "metadata": {},
   "outputs": [],
   "source": [
    "x_min = -4.25e5\n",
    "x_max = -3.9e5\n",
    "y_min = 1.015e6\n",
    "y_max = 1.05e6"
   ]
  },
  {
   "cell_type": "markdown",
   "id": "interior-ordinance",
   "metadata": {},
   "source": [
    "Load ICESat-2 Data (ATL15 for now):"
   ]
  },
  {
   "cell_type": "code",
   "execution_count": 4,
   "id": "common-jaguar",
   "metadata": {},
   "outputs": [],
   "source": [
    "# import the data \n",
    "fn = '/home/aaron/Data/ICESat-2/ATL15/data/ATL15_AA_0311_01km_001_01.nc'\n",
    "ds = nc.Dataset(fn)\n",
    "dsh = ds['delta_h']\n",
    "\n",
    "dh = dsh['delta_h'][:]        # elevation change (m)\n",
    "x = dsh['x'][:]               # x coordinate array (m)\n",
    "y = dsh['y'][:]               # y coordinate array (m)\n",
    "t = dsh['time'][:]            # t coordinate array (d) \n",
    "\n",
    "nt = np.size(t)                              \n",
    "\n",
    "\n",
    "ind_x = np.arange(0,np.size(x),1)\n",
    "ind_y = np.arange(0,np.size(y),1)\n",
    "\n",
    "# extract the data that is inside the bounding box\n",
    "x_sub = x[(x>=x_min)&(x<=x_max)]\n",
    "y_sub = y[(y>=y_min)&(y<=y_max)]\n",
    "inds_x = ind_x[(x>=x_min)&(x<=x_max)]\n",
    "inds_y = ind_y[(y>=y_min)&(y<=y_max)]\n",
    "\n",
    "nx = np.size(inds_x)          \n",
    "ny = np.size(inds_y)\n",
    "\n",
    "inds_xy = np.ix_(inds_y,inds_x)\n",
    "dh_sub = np.zeros((nt,ny,nx))\n",
    "\n",
    "# put elevation change maps into 3D array with time being the first index\n",
    "for i in range(nt):\n",
    "    dh0 = dh[i,:,:]\n",
    "    dh_sub[i,:,:] = dh0[inds_xy]"
   ]
  },
  {
   "cell_type": "markdown",
   "id": "postal-norman",
   "metadata": {},
   "source": [
    "Interpolate onto a finer space-time grid:"
   ]
  },
  {
   "cell_type": "code",
   "execution_count": 5,
   "id": "technical-surprise",
   "metadata": {},
   "outputs": [],
   "source": [
    "def interp_txy(f,t,y,x):\n",
    "    Nx_f = 101            # fine Nx\n",
    "    Ny_f = 101            # fine Ny\n",
    "    Nt_f = 100            # fine Nt\n",
    "\n",
    "    t0_f = np.linspace(t.min(),t.max(),num=Nt_f)  # fine time array\n",
    "    x0_f = np.linspace(x.min(),x.max(),num=Nx_f)  # fine x coordinate array\n",
    "    y0_f = np.linspace(y.min(),y.max(),num=Ny_f)  # fine y coordinate array\n",
    "    t_f,y_f,x_f = np.meshgrid(t0_f,y0_f,x0_f,indexing='ij')\n",
    "\n",
    "    points = (t_f,y_f,x_f)\n",
    "\n",
    "    f_fine = griddata((t.ravel(),y.ravel(),x.ravel()),f.ravel(),points)\n",
    "    \n",
    "    return f_fine,t0_f,y0_f,x0_f\n",
    "\n",
    "t_g,y_g,x_g = np.meshgrid(t,y_sub,x_sub,indexing='ij')\n",
    "\n",
    "dh_f,t_f,y_f,x_f = interp_txy(dh_sub,t_g,y_g,x_g)"
   ]
  },
  {
   "cell_type": "markdown",
   "id": "brilliant-midnight",
   "metadata": {},
   "source": [
    "Uncomment below to plot the data at each timestep if desired to make sure that everything worked:"
   ]
  },
  {
   "cell_type": "code",
   "execution_count": 6,
   "id": "exterior-experiment",
   "metadata": {
    "scrolled": true
   },
   "outputs": [],
   "source": [
    "# levels=np.linspace(-10,10,11)\n",
    "\n",
    "# # plot png at each time step to make sure the interpolation worked\n",
    "\n",
    "# if os.path.isdir('data_pngs')==False:\n",
    "#     os.mkdir('data_pngs')\n",
    "    \n",
    "# X_sub,Y_sub = np.meshgrid(x_sub,y_sub)    \n",
    "\n",
    "# for i in range(np.size(t_f)):\n",
    "#     plt.close()\n",
    "#     plt.figure(figsize=(8,6))\n",
    "#     plt.title(r'$t=$ '+'{:.2f}'.format(t_f[i])+' d',fontsize=24)\n",
    "#     p = plt.contourf(x_f/1e3,y_f/1e3,dh_f[i,:,:],levels=levels,cmap='coolwarm')\n",
    "#     plt.scatter(X_sub.flatten()/1e3,Y_sub.flatten()/1e3,facecolors='none',edgecolors='k',alpha=0.25)\n",
    "#     plt.xlabel(r'$x$ (km)',fontsize=20)\n",
    "#     plt.ylabel(r'$y$ (km)',fontsize=20)\n",
    "#     cbar = plt.colorbar(p)\n",
    "#     cbar.set_label(r'$dh$ (m)',fontsize=20)\n",
    "#     cbar.ax.tick_params(labelsize=16)\n",
    "#     plt.xticks(fontsize=16)\n",
    "#     plt.yticks(fontsize=16)\n",
    "#     plt.tight_layout()\n",
    "#     plt.savefig('data_pngs/dh_'+str(i))\n",
    "#     plt.close()"
   ]
  },
  {
   "cell_type": "markdown",
   "id": "english-michael",
   "metadata": {},
   "source": [
    "Save the data: (apparently numpy save uses pickling?)"
   ]
  },
  {
   "cell_type": "code",
   "execution_count": 7,
   "id": "beginning-aggregate",
   "metadata": {},
   "outputs": [],
   "source": [
    "np.save('../data/h_obs.npy',dh_f)\n",
    "np.save('../data/x.npy',x_f)\n",
    "np.save('../data/y.npy',y_f)\n",
    "np.save('../data/t.npy',t_f)"
   ]
  },
  {
   "cell_type": "markdown",
   "id": "celtic-guitar",
   "metadata": {},
   "source": [
    "Now we get estimates of ice thickness and basal drag coefficient (here from Arthern et al., 2015):"
   ]
  },
  {
   "cell_type": "code",
   "execution_count": 8,
   "id": "personalized-jerusalem",
   "metadata": {},
   "outputs": [],
   "source": [
    "H_beta = xr.open_zarr('/home/aaron/Data/Inversions/Arthern2015/data/H_beta.zarr')\n",
    "H_beta.load()\n",
    "\n",
    "x, y = np.array(H_beta.x),np.array(H_beta.y)                # horizontal map coordinates\n",
    "beta = H_beta.beta.data               # (dimensional) basal sliding coefficient (Pa s / m)\n",
    "H = H_beta.thickness.data               # ice thickness (m)\n",
    "\n",
    "ind_x = np.arange(0,np.size(x),1)\n",
    "ind_y = np.arange(0,np.size(y),1)\n",
    "\n",
    "x_sub = x[(x>=x_min)&(x<=x_max)]\n",
    "y_sub = y[(y>=y_min)&(y<=y_max)]\n",
    "\n",
    "inds_x = ind_x[(x>=x_min)&(x<=x_max)]\n",
    "inds_y = ind_y[(y>=y_min)&(y<=y_max)]\n",
    "\n",
    "inds_xy = np.ix_(inds_x,inds_y)\n",
    "\n",
    "X, Y = np.meshgrid(x,y)\n",
    "\n",
    "H_mean = np.mean(H[inds_xy])\n",
    "beta_mean = np.mean(beta[inds_xy])"
   ]
  },
  {
   "cell_type": "code",
   "execution_count": 9,
   "id": "informational-credit",
   "metadata": {},
   "outputs": [
    {
     "name": "stdout",
     "output_type": "stream",
     "text": [
      "mean ice thickness = 3321.73 m\n",
      "mean basal drag coeff. = 2.27e+11 Pa s/m\n"
     ]
    }
   ],
   "source": [
    "print('mean ice thickness = '+'{:.2f}'.format(H_mean)+' m')\n",
    "print('mean basal drag coeff. = '+'{:.2e}'.format(beta_mean)+' Pa s/m')"
   ]
  },
  {
   "cell_type": "code",
   "execution_count": 10,
   "id": "adopted-blank",
   "metadata": {},
   "outputs": [],
   "source": [
    "# # sanity check plot to make sure we are getting data from the right area... (red stars mark bounding box coords)\n",
    "# import matplotlib.colors as colors\n",
    "# plt.close()\n",
    "# plt.figure(figsize=(12,8))\n",
    "# plt.subplot(121)\n",
    "# p1 = plt.contourf(X/1000,Y/1000,H/1000,cmap='Greys',vmin=0,vmax=np.max(H/1000),levels=[0,1,2,3,4],extend='both')\n",
    "# plt.plot(np.array([x_sub[0],x_sub[-1]])/1000,np.array([y_sub[0],y_sub[-1]])/1000,'r*',markersize=10)\n",
    "# plt.contour(X/1000,Y/1000,H/1000,colors='k',levels=[0])\n",
    "# plt.yticks(fontsize=14)\n",
    "# plt.xticks(fontsize=14)\n",
    "# plt.ylabel(r'$y$ (km)',fontsize=20)\n",
    "# plt.xlabel(r'$x$ (km)',fontsize=20)\n",
    "# cbar = plt.colorbar(p1,ticks=[0,1,2,3,4],orientation='horizontal')\n",
    "# cbar.set_label(r'$H$ (km)', fontsize=20)\n",
    "# cbar.ax.tick_params(labelsize=14)\n",
    "\n",
    "# plt.subplot(122)\n",
    "# p2 = plt.contourf(X/1000,Y/1000,beta,cmap='Greys',norm=colors.LogNorm(vmin=1e6, vmax=1e14),levels=[1e6,1e8,1e10,1e12,1e14],extend='both')\n",
    "# plt.contour(X/1000,Y/1000,H/1000,colors='k',levels=[0])\n",
    "# plt.plot(np.array([x_sub[0],x_sub[-1]])/1000,np.array([y_sub[0],y_sub[-1]])/1000,'r*',markersize=10)\n",
    "# plt.xticks(fontsize=14)\n",
    "# plt.gca().get_yaxis().set_ticklabels([])\n",
    "# plt.xlabel(r'$x$ (km)',fontsize=20)\n",
    "# cbar = plt.colorbar(p2,orientation='horizontal')\n",
    "# cbar.set_label(r'$\\beta$ (Pa s m$^{-1})$', fontsize=20)\n",
    "# cbar.ax.tick_params(labelsize=14)\n",
    "# plt.tight_layout()\n",
    "# plt.show()\n",
    "# plt.close()"
   ]
  },
  {
   "cell_type": "code",
   "execution_count": 11,
   "id": "greatest-hopkins",
   "metadata": {},
   "outputs": [],
   "source": [
    "np.save('../data/beta.npy',beta_mean)\n",
    "np.save('../data/H.npy',H_mean)"
   ]
  }
 ],
 "metadata": {
  "kernelspec": {
   "display_name": "Python 3",
   "language": "python",
   "name": "python3"
  },
  "language_info": {
   "codemirror_mode": {
    "name": "ipython",
    "version": 3
   },
   "file_extension": ".py",
   "mimetype": "text/x-python",
   "name": "python",
   "nbconvert_exporter": "python",
   "pygments_lexer": "ipython3",
   "version": "3.8.10"
  }
 },
 "nbformat": 4,
 "nbformat_minor": 5
}
